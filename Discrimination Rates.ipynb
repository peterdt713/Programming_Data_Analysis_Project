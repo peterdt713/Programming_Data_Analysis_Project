{
 "cells": [
  {
   "cell_type": "markdown",
   "metadata": {},
   "source": [
    "# Simulating a Real-World Phenomenon - Irish Discrimination Rates\n",
    "\n",
    "Explain"
   ]
  },
  {
   "cell_type": "code",
   "execution_count": 1,
   "metadata": {
    "collapsed": true
   },
   "outputs": [],
   "source": [
    "import numpy as np\n",
    "import pandas as pd\n",
    "import matplotlib.pyplot as plt\n",
    "\n",
    "%matplotlib inline\n"
   ]
  },
  {
   "cell_type": "code",
   "execution_count": 2,
   "metadata": {},
   "outputs": [
    {
     "name": "stdout",
     "output_type": "stream",
     "text": [
      "Estimated Total Survey Size:  14158\n",
      "Percentage of Males who felt discriminated against:  4.449781042520129\n",
      "Percentage of Females who felt discriminated against:  7.550501483260348\n"
     ]
    }
   ],
   "source": [
    "# 2014 Ratio: https://www.cso.ie/en/releasesandpublications/er/q-eq/qnhsequalitymodulequarter32014/\n",
    "\n",
    "total_disc_yes = 0.12\n",
    "\n",
    "# Of 12% Yes\n",
    "M = 630\n",
    "F = 1069\n",
    "T = M + F\n",
    "\n",
    "# Estimate Total Survey Size\n",
    "total_survey = int(round(T / 0.12))\n",
    "print(\"Estimated Total Survey Size: \", total_survey)\n",
    "\n",
    "\n",
    "M_Y = (M/total_survey)\n",
    "F_Y = (F/total_survey)\n",
    "\n",
    "M_R = (M/total_survey)*100\n",
    "F_R = (F/total_survey)*100\n",
    "\n",
    "print(\"Percentage of Males who felt discriminated against: \", M_R)\n",
    "print(\"Percentage of Females who felt discriminated against: \",F_R)"
   ]
  },
  {
   "cell_type": "markdown",
   "metadata": {},
   "source": [
    "## Sex"
   ]
  },
  {
   "cell_type": "code",
   "execution_count": 3,
   "metadata": {},
   "outputs": [
    {
     "name": "stdout",
     "output_type": "stream",
     "text": [
      "      Sex\n",
      "0  Female\n",
      "1    Male\n",
      "2    Male\n",
      "3    Male\n",
      "4  Female\n",
      "5  Female\n",
      "6  Female\n",
      "7  Female\n",
      "8    Male\n",
      "9  Female\n"
     ]
    }
   ],
   "source": [
    "# Set Array\n",
    "sex_x = ['Male', 'Female']\n",
    "\n",
    "\n",
    "# Build Dataframe - Assume 50% Males and Females\n",
    "sex = np.random.choice(sex_x, total_survey, p=[0.5, 0.5])\n",
    "\n",
    "df=pd.DataFrame(data={'Sex': sex})\n",
    "\n",
    "\n",
    "print(df.head(10))"
   ]
  },
  {
   "cell_type": "markdown",
   "metadata": {},
   "source": [
    "## Experienced Discrimination"
   ]
  },
  {
   "cell_type": "code",
   "execution_count": 4,
   "metadata": {
    "scrolled": false
   },
   "outputs": [
    {
     "name": "stdout",
     "output_type": "stream",
     "text": [
      "      Sex Discriminated Against\n",
      "0  Female                    No\n",
      "1    Male                    No\n",
      "2    Male                    No\n",
      "3    Male                    No\n",
      "4  Female                    No\n",
      "5  Female                    No\n",
      "6  Female                    No\n",
      "7  Female                    No\n",
      "8    Male                   Yes\n",
      "9  Female                   Yes\n"
     ]
    }
   ],
   "source": [
    "# Set Array\n",
    "disc_x = ['M_Y', 'F_Y', 'M_N', 'F_N']\n",
    "\n",
    "# Assume 50% Males and 50% Females\n",
    "M_N = 0.5 - M_Y\n",
    "F_N = 0.5 - F_Y\n",
    "\n",
    "\n",
    "# Build Dataframe\n",
    "disc = np.random.choice(disc_x, total_survey, p=[M_Y, F_Y, M_N, F_N])\n",
    "df['Discriminated Against'] = disc\n",
    "\n",
    "df ['Discriminated Against'].replace({'M_Y':'Yes', 'M_N':'No', 'F_Y':'Yes', 'F_N':'No'}, inplace=True)\n",
    "\n",
    "\n",
    "print(df.head(10))"
   ]
  },
  {
   "cell_type": "markdown",
   "metadata": {},
   "source": [
    "## Discrimination Type"
   ]
  },
  {
   "cell_type": "code",
   "execution_count": 8,
   "metadata": {},
   "outputs": [
    {
     "name": "stdout",
     "output_type": "stream",
     "text": [
      "          Sex Discriminated Against           Type\n",
      "0      Female                    No             NA\n",
      "1        Male                    No             NA\n",
      "2        Male                    No             NA\n",
      "3        Male                    No             NA\n",
      "4      Female                    No             NA\n",
      "5      Female                    No             NA\n",
      "6      Female                    No             NA\n",
      "7      Female                    No             NA\n",
      "8        Male                   Yes          Other\n",
      "9      Female                   Yes  Family Status\n",
      "10       Male                    No             NA\n",
      "11     Female                    No             NA\n",
      "12     Female                    No             NA\n",
      "13       Male                    No             NA\n",
      "14     Female                   Yes           Race\n",
      "15     Female                    No             NA\n",
      "16     Female                    No             NA\n",
      "17     Female                    No             NA\n",
      "18       Male                    No             NA\n",
      "19       Male                   Yes           Race\n",
      "20     Female                   Yes           Race\n",
      "21       Male                    No             NA\n",
      "22     Female                    No             NA\n",
      "23     Female                    No             NA\n",
      "24     Female                    No             NA\n",
      "25       Male                   Yes          Other\n",
      "26     Female                    No             NA\n",
      "27       Male                    No             NA\n",
      "28       Male                    No             NA\n",
      "29     Female                    No             NA\n",
      "...       ...                   ...            ...\n",
      "14128  Female                    No             NA\n",
      "14129  Female                    No             NA\n",
      "14130  Female                    No             NA\n",
      "14131  Female                    No             NA\n",
      "14132    Male                    No             NA\n",
      "14133  Female                    No             NA\n",
      "14134  Female                    No             NA\n",
      "14135    Male                    No             NA\n",
      "14136    Male                    No             NA\n",
      "14137    Male                    No             NA\n",
      "14138    Male                    No             NA\n",
      "14139    Male                    No             NA\n",
      "14140  Female                    No             NA\n",
      "14141    Male                    No             NA\n",
      "14142    Male                    No             NA\n",
      "14143  Female                    No             NA\n",
      "14144  Female                   Yes            Age\n",
      "14145  Female                    No             NA\n",
      "14146    Male                    No             NA\n",
      "14147  Female                    No             NA\n",
      "14148    Male                    No             NA\n",
      "14149    Male                   Yes  Family Status\n",
      "14150  Female                    No             NA\n",
      "14151    Male                    No             NA\n",
      "14152  Female                   Yes          Other\n",
      "14153    Male                    No             NA\n",
      "14154    Male                    No             NA\n",
      "14155    Male                    No             NA\n",
      "14156    Male                    No             NA\n",
      "14157    Male                    No             NA\n",
      "\n",
      "[14158 rows x 3 columns]\n"
     ]
    },
    {
     "name": "stderr",
     "output_type": "stream",
     "text": [
      "C:\\ProgramData\\Anaconda3\\lib\\site-packages\\ipykernel_launcher.py:83: SettingWithCopyWarning: \n",
      "A value is trying to be set on a copy of a slice from a DataFrame.\n",
      "Try using .loc[row_indexer,col_indexer] = value instead\n",
      "\n",
      "See the caveats in the documentation: http://pandas.pydata.org/pandas-docs/stable/indexing.html#indexing-view-versus-copy\n",
      "C:\\ProgramData\\Anaconda3\\lib\\site-packages\\ipykernel_launcher.py:84: SettingWithCopyWarning: \n",
      "A value is trying to be set on a copy of a slice from a DataFrame.\n",
      "Try using .loc[row_indexer,col_indexer] = value instead\n",
      "\n",
      "See the caveats in the documentation: http://pandas.pydata.org/pandas-docs/stable/indexing.html#indexing-view-versus-copy\n",
      "C:\\ProgramData\\Anaconda3\\lib\\site-packages\\ipykernel_launcher.py:85: SettingWithCopyWarning: \n",
      "A value is trying to be set on a copy of a slice from a DataFrame.\n",
      "Try using .loc[row_indexer,col_indexer] = value instead\n",
      "\n",
      "See the caveats in the documentation: http://pandas.pydata.org/pandas-docs/stable/indexing.html#indexing-view-versus-copy\n"
     ]
    }
   ],
   "source": [
    "# Set Array\n",
    "discrim_type = ['Gender', 'Marital Status', 'Family Status', 'Age', 'Disability', 'Race', 'Other']\n",
    "\n",
    "# Males\n",
    "\n",
    "# Set Discrimination Types %\n",
    "gen_m = 9\n",
    "mar_m = 3\n",
    "fam_m = 9\n",
    "age_m = 24\n",
    "dis_m = 6\n",
    "rac_m = 21\n",
    "oth_m = 41\n",
    "\n",
    "# As Multiple Responses were allowed in the Survey, add weighting to correct %\n",
    "tot_disc_m = gen_m + mar_m + fam_m + age_m + dis_m +  rac_m + oth_m\n",
    "\n",
    "gen_m = gen_m/tot_disc_m\n",
    "mar_m = mar_m/tot_disc_m\n",
    "fam_m = fam_m/tot_disc_m\n",
    "age_m = age_m/tot_disc_m\n",
    "dis_m = dis_m/tot_disc_m\n",
    "rac_m = rac_m/tot_disc_m\n",
    "oth_m = oth_m/tot_disc_m\n",
    "\n",
    "# Females\n",
    "\n",
    "# Set Discrimination Types %\n",
    "gen_f = 14 \n",
    "mar_f = 5\n",
    "fam_f = 14\n",
    "age_f = 24\n",
    "dis_f = 6\n",
    "rac_f = 17\n",
    "oth_f = 36\n",
    "\n",
    "# As Multiple Responses were allowed in the Survey, add weighting to correct %\n",
    "tot_disc_f = gen_f + mar_f + fam_f + age_f + dis_f +  rac_f + oth_f\n",
    "\n",
    "gen_f = gen_f/tot_disc_f\n",
    "mar_f = mar_f/tot_disc_f\n",
    "fam_f = fam_f/tot_disc_f\n",
    "age_f = age_f/tot_disc_f\n",
    "dis_f = dis_f/tot_disc_f\n",
    "rac_f = rac_f/tot_disc_f\n",
    "oth_f = oth_f/tot_disc_f\n",
    "\n",
    "# Split Dataframe\n",
    "disc_yes =  df['Discriminated Against']=='Yes'\n",
    "df_yes = df[disc_yes]\n",
    "\n",
    "# Male\n",
    "disc_yes_m =  df_yes['Sex']=='Male'\n",
    "df_yes_m = df_yes[disc_yes_m]\n",
    "\n",
    "# Female\n",
    "disc_yes_f =  df_yes['Sex']=='Female'\n",
    "df_yes_f = df_yes[disc_yes_f]\n",
    "\n",
    "\n",
    "disc_no =  df['Discriminated Against']=='No'\n",
    "df_no = df[disc_no]\n",
    "\n",
    "# Set Count for Yes\n",
    "\n",
    "# Male\n",
    "yes_count_xm = df_yes_m['Discriminated Against']\n",
    "yes_count_m = yes_count_xm.count()\n",
    "\n",
    "# Female\n",
    "yes_count_xf = df_yes_f['Discriminated Against']\n",
    "yes_count_f = yes_count_xf.count()\n",
    "\n",
    "# Populate Weighted Random Choice\n",
    "\n",
    "# Male\n",
    "type_disc_m = np.random.choice(discrim_type, yes_count_m, p=[gen_m, mar_m, fam_m, age_m, dis_m, rac_m, oth_m])\n",
    "\n",
    "# Female\n",
    "type_disc_f = np.random.choice(discrim_type, yes_count_f, p=[gen_f, mar_f, fam_f, age_f, dis_f, rac_f, oth_f])\n",
    "\n",
    "# Set Type Column\n",
    "df_no['Type'] = 'NA'\n",
    "df_yes_m['Type'] = type_disc_m\n",
    "df_yes_f['Type'] = type_disc_f\n",
    "\n",
    "\n",
    "# Join Dataframes\n",
    "frames_a = [df_yes_m, df_yes_f]\n",
    "\n",
    "df_a = pd.concat(frames_a)\n",
    "\n",
    "frames_b = [df_no, df_a]\n",
    "\n",
    "df = pd.concat(frames_b)\n",
    "\n",
    "# Sort by index\n",
    "df.sort_index(inplace=True)\n",
    "print(df)"
   ]
  },
  {
   "cell_type": "markdown",
   "metadata": {},
   "source": [
    "## Social Setting"
   ]
  },
  {
   "cell_type": "code",
   "execution_count": 6,
   "metadata": {},
   "outputs": [
    {
     "name": "stdout",
     "output_type": "stream",
     "text": [
      "      Sex Discriminated Against   Type\n",
      "0  Female                    No     NA\n",
      "1    Male                    No     NA\n",
      "2    Male                    No     NA\n",
      "3    Male                    No     NA\n",
      "4  Female                    No     NA\n",
      "5  Female                    No     NA\n",
      "6  Female                    No     NA\n",
      "7  Female                    No     NA\n",
      "8    Male                   Yes    Age\n",
      "9  Female                   Yes  Other\n"
     ]
    },
    {
     "name": "stderr",
     "output_type": "stream",
     "text": [
      "C:\\ProgramData\\Anaconda3\\lib\\site-packages\\ipykernel_launcher.py:39: SettingWithCopyWarning: \n",
      "A value is trying to be set on a copy of a slice from a DataFrame.\n",
      "Try using .loc[row_indexer,col_indexer] = value instead\n",
      "\n",
      "See the caveats in the documentation: http://pandas.pydata.org/pandas-docs/stable/indexing.html#indexing-view-versus-copy\n",
      "C:\\ProgramData\\Anaconda3\\lib\\site-packages\\ipykernel_launcher.py:40: SettingWithCopyWarning: \n",
      "A value is trying to be set on a copy of a slice from a DataFrame.\n",
      "Try using .loc[row_indexer,col_indexer] = value instead\n",
      "\n",
      "See the caveats in the documentation: http://pandas.pydata.org/pandas-docs/stable/indexing.html#indexing-view-versus-copy\n"
     ]
    }
   ],
   "source": [
    "# Set Array\n",
    "discrim_set = ['Workplace', 'Looking for Work', 'Public Place', 'Education', 'Obtaining Housing', 'Accessing health services', 'Using transport services', 'Accessing public services']\n",
    "\n",
    "# Set Discrimination Types %\n",
    "gen_x = 9\n",
    "mar_x = 3\n",
    "fam_x = 9\n",
    "age_x = 24\n",
    "dis_x = 6\n",
    "rac_x = 21\n",
    "oth_x = 41\n",
    "\n",
    "# As Multiple Responses were allowed in the Survey, add weighting to correct %\n",
    "tot_disc = gen_x + mar_x + fam_x + age_x + dis_x +  rac_x + oth_x\n",
    "\n",
    "gen_x = gen_x/tot_disc\n",
    "mar_x = mar_x/tot_disc\n",
    "fam_x = fam_x/tot_disc\n",
    "age_x = age_x/tot_disc\n",
    "dis_x = dis_x/tot_disc\n",
    "rac_x = rac_x/tot_disc\n",
    "oth_x = oth_x/tot_disc\n",
    "\n",
    "# Split Dataframe\n",
    "disc_yes =  df['Discriminated Against']=='Yes'\n",
    "df_yes = df[disc_yes]\n",
    "\n",
    "disc_no =  df['Discriminated Against']=='No'\n",
    "df_no = df[disc_no]\n",
    "\n",
    "# Set Count for Yes\n",
    "yes_count_x = df_yes['Discriminated Against']\n",
    "yes_count = yes_count_x.count()\n",
    "\n",
    "# Populate Weighted Random Choice\n",
    "type_disc = np.random.choice(discrim_type, yes_count, p=[gen_x, mar_x, fam_x, age_x, dis_x, rac_x, oth_x])\n",
    "\n",
    "# Set Type Column\n",
    "df_no['Type'] = 'NA'\n",
    "df_yes['Type'] = type_disc\n",
    "\n",
    "\n",
    "# Join Dataframes\n",
    "frames = [df_no, df_yes]\n",
    "\n",
    "df = pd.concat(frames)\n",
    "\n",
    "# Sort by index\n",
    "df.sort_index(inplace=True)\n",
    "print(df.head(10))"
   ]
  },
  {
   "cell_type": "code",
   "execution_count": 4,
   "metadata": {},
   "outputs": [
    {
     "name": "stdout",
     "output_type": "stream",
     "text": [
      "       Discriminated Against     Sex   Type\n",
      "count                  14158   14158  14158\n",
      "unique                     2       2      8\n",
      "top                       No  Female     NA\n",
      "freq                   12511    7191  12511\n"
     ]
    },
    {
     "data": {
      "text/plain": [
       "<matplotlib.axes._subplots.AxesSubplot at 0x24d0f8a15c0>"
      ]
     },
     "execution_count": 4,
     "metadata": {},
     "output_type": "execute_result"
    },
    {
     "data": {
      "image/png": "[encoded data removed]",
      "text/plain": [
       "<matplotlib.figure.Figure at 0x24d0e9450b8>"
      ]
     },
     "metadata": {},
     "output_type": "display_data"
    }
   ],
   "source": [
    "print(result.describe())\n",
    "\n",
    "result['Type'].value_counts().plot(kind='bar')"
   ]
  },
  {
   "cell_type": "code",
   "execution_count": null,
   "metadata": {
    "collapsed": true
   },
   "outputs": [],
   "source": []
  }
 ],
 "metadata": {
  "kernelspec": {
   "display_name": "Python 3",
   "language": "python",
   "name": "python3"
  },
  "language_info": {
   "codemirror_mode": {
    "name": "ipython",
    "version": 3
   },
   "file_extension": ".py",
   "mimetype": "text/x-python",
   "name": "python",
   "nbconvert_exporter": "python",
   "pygments_lexer": "ipython3",
   "version": "3.6.3"
  }
 },
 "nbformat": 4,
 "nbformat_minor": 2
}
