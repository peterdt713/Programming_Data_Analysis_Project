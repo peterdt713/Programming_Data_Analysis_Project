{
 "cells": [
  {
   "cell_type": "markdown",
   "metadata": {},
   "source": [
    "# Simulating a Real-World Phenomenon - Irish Discrimination Rates\n",
    "\n",
    "Explain"
   ]
  },
  {
   "cell_type": "code",
   "execution_count": 1,
   "metadata": {
    "collapsed": true
   },
   "outputs": [],
   "source": [
    "import numpy as np\n",
    "import pandas as pd\n",
    "import matplotlib.pyplot as plt\n",
    "\n",
    "%matplotlib inline\n"
   ]
  },
  {
   "cell_type": "code",
   "execution_count": 2,
   "metadata": {},
   "outputs": [
    {
     "name": "stdout",
     "output_type": "stream",
     "text": [
      "Estimated Total Survey Size:  14158\n",
      "Percentage of Males who felt discriminated against:  4.449781042520129\n",
      "Percentage of Females who felt discriminated against:  7.550501483260348\n"
     ]
    }
   ],
   "source": [
    "# 2014 Ratio: https://www.cso.ie/en/releasesandpublications/er/q-eq/qnhsequalitymodulequarter32014/\n",
    "\n",
    "total_disc_yes = 0.12\n",
    "\n",
    "# Of 12% Yes\n",
    "M = 630\n",
    "F = 1069\n",
    "T = M + F\n",
    "\n",
    "# Estimate Total Survey Size\n",
    "total_survey = int(round(T / 0.12))\n",
    "print(\"Estimated Total Survey Size: \", total_survey)\n",
    "\n",
    "\n",
    "M_Y = (M/total_survey)\n",
    "F_Y = (F/total_survey)\n",
    "\n",
    "M_R = (M/total_survey)*100\n",
    "F_R = (F/total_survey)*100\n",
    "\n",
    "print(\"Percentage of Males who felt discriminated against: \", M_R)\n",
    "print(\"Percentage of Females who felt discriminated against: \",F_R)"
   ]
  },
  {
   "cell_type": "code",
   "execution_count": 69,
   "metadata": {
    "scrolled": false
   },
   "outputs": [
    {
     "name": "stdout",
     "output_type": "stream",
     "text": [
      "  Discriminated Against     Sex\n",
      "0                    No  Female\n",
      "1                    No    Male\n",
      "2                    No    Male\n",
      "3                    No  Female\n",
      "4                    No    Male\n",
      "5                    No  Female\n",
      "6                    No    Male\n",
      "7                    No    Male\n",
      "8                    No  Female\n",
      "9                    No  Female\n",
      "    Discriminated Against     Sex\n",
      "28                    Yes    Male\n",
      "30                    Yes  Female\n",
      "38                    Yes  Female\n",
      "54                    Yes  Female\n",
      "99                    Yes  Female\n",
      "105                   Yes    Male\n",
      "119                   Yes  Female\n",
      "120                   Yes  Female\n",
      "128                   Yes  Female\n",
      "133                   Yes  Female\n",
      "    Discriminated Against     Sex           Type\n",
      "28                    Yes    Male     Disability\n",
      "30                    Yes  Female  Family Status\n",
      "38                    Yes  Female           Race\n",
      "54                    Yes  Female  Family Status\n",
      "99                    Yes  Female           Race\n",
      "105                   Yes    Male          Other\n",
      "119                   Yes  Female         Gender\n",
      "120                   Yes  Female          Other\n",
      "128                   Yes  Female           Race\n",
      "133                   Yes  Female         Gender\n",
      "  Discriminated Against     Sex\n",
      "0                    No  Female\n",
      "1                    No    Male\n",
      "2                    No    Male\n",
      "3                    No  Female\n",
      "4                    No    Male\n",
      "5                    No  Female\n",
      "6                    No    Male\n",
      "7                    No    Male\n",
      "8                    No  Female\n",
      "9                    No  Female\n",
      "      Discriminated Against     Sex            Type\n",
      "0                        No  Female              NA\n",
      "1                        No    Male              NA\n",
      "2                        No    Male              NA\n",
      "3                        No  Female              NA\n",
      "4                        No    Male              NA\n",
      "5                        No  Female              NA\n",
      "6                        No    Male              NA\n",
      "7                        No    Male              NA\n",
      "8                        No  Female              NA\n",
      "9                        No  Female              NA\n",
      "10                       No  Female              NA\n",
      "11                       No  Female              NA\n",
      "12                       No  Female              NA\n",
      "13                       No  Female              NA\n",
      "14                       No  Female              NA\n",
      "15                       No    Male              NA\n",
      "16                       No    Male              NA\n",
      "17                       No  Female              NA\n",
      "18                       No    Male              NA\n",
      "19                       No  Female              NA\n",
      "20                       No    Male              NA\n",
      "21                       No    Male              NA\n",
      "22                       No    Male              NA\n",
      "23                       No    Male              NA\n",
      "24                       No  Female              NA\n",
      "25                       No  Female              NA\n",
      "26                       No    Male              NA\n",
      "27                       No  Female              NA\n",
      "29                       No    Male              NA\n",
      "31                       No  Female              NA\n",
      "...                     ...     ...             ...\n",
      "13908                   Yes    Male             Age\n",
      "13914                   Yes  Female             Age\n",
      "13923                   Yes  Female           Other\n",
      "13924                   Yes    Male           Other\n",
      "13927                   Yes    Male           Other\n",
      "13935                   Yes    Male           Other\n",
      "13937                   Yes  Female           Other\n",
      "13939                   Yes    Male           Other\n",
      "13974                   Yes  Female           Other\n",
      "13975                   Yes    Male           Other\n",
      "13990                   Yes  Female           Other\n",
      "13997                   Yes  Female      Disability\n",
      "13998                   Yes    Male            Race\n",
      "14008                   Yes    Male           Other\n",
      "14013                   Yes    Male   Family Status\n",
      "14022                   Yes    Male           Other\n",
      "14034                   Yes    Male           Other\n",
      "14048                   Yes    Male           Other\n",
      "14052                   Yes  Female           Other\n",
      "14073                   Yes    Male             Age\n",
      "14076                   Yes  Female           Other\n",
      "14086                   Yes  Female           Other\n",
      "14095                   Yes  Female  Marital Status\n",
      "14124                   Yes    Male           Other\n",
      "14125                   Yes  Female           Other\n",
      "14127                   Yes    Male            Race\n",
      "14132                   Yes  Female           Other\n",
      "14139                   Yes  Female           Other\n",
      "14147                   Yes    Male             Age\n",
      "14149                   Yes    Male            Race\n",
      "\n",
      "[14158 rows x 3 columns]\n"
     ]
    },
    {
     "name": "stderr",
     "output_type": "stream",
     "text": [
      "C:\\ProgramData\\Anaconda3\\lib\\site-packages\\ipykernel_launcher.py:56: SettingWithCopyWarning: \n",
      "A value is trying to be set on a copy of a slice from a DataFrame.\n",
      "Try using .loc[row_indexer,col_indexer] = value instead\n",
      "\n",
      "See the caveats in the documentation: http://pandas.pydata.org/pandas-docs/stable/indexing.html#indexing-view-versus-copy\n",
      "C:\\ProgramData\\Anaconda3\\lib\\site-packages\\ipykernel_launcher.py:57: SettingWithCopyWarning: \n",
      "A value is trying to be set on a copy of a slice from a DataFrame.\n",
      "Try using .loc[row_indexer,col_indexer] = value instead\n",
      "\n",
      "See the caveats in the documentation: http://pandas.pydata.org/pandas-docs/stable/indexing.html#indexing-view-versus-copy\n"
     ]
    }
   ],
   "source": [
    "# Set Array\n",
    "sex_x = ['Male', 'Female']\n",
    "disc_x = ['M_Y', 'F_Y', 'M_N', 'F_N']\n",
    "discrim_type = ['Gender', 'Marital Status', 'Family Status', 'Age', 'Disability', 'Race', 'Other']\n",
    "\n",
    "\n",
    "# Assume 50% Males and 50% Females\n",
    "M_N = 0.5 - M_Y\n",
    "F_N = 0.5 - F_Y\n",
    "\n",
    "# Set Discrimination Types %\n",
    "gen_x = 9\n",
    "mar_x = 3\n",
    "fam_x = 9\n",
    "age_x = 24\n",
    "dis_x = 6\n",
    "rac_x = 21\n",
    "oth_x = 41\n",
    "\n",
    "# As Multiple Responses were allowed in the Survey, add weighting to correct %\n",
    "tot_disc = gen_x + mar_x + fam_x + age_x + dis_x +  rac_x + oth_x\n",
    "\n",
    "gen_x = gen_x/tot_disc\n",
    "mar_x = mar_x/tot_disc\n",
    "fam_x = fam_x/tot_disc\n",
    "age_x = age_x/tot_disc\n",
    "dis_x = dis_x/tot_disc\n",
    "rac_x = rac_x/tot_disc\n",
    "oth_x = oth_x/tot_disc\n",
    "\n",
    "# Build Dataframe\n",
    "sex = np.random.choice(sex_x, total_survey, p=[0.5, 0.5])\n",
    "disc = np.random.choice(disc_x, total_survey, p=[M_Y, F_Y, M_N, F_N])\n",
    "\n",
    "df=pd.DataFrame(data={'Sex': sex, 'Discriminated Against': disc})\n",
    "df ['Discriminated Against'].replace({'M_Y':'Yes', 'M_N':'No', 'F_Y':'Yes', 'F_N':'No'}, inplace=True)\n",
    "\n",
    "\n",
    "print(df.head(10))\n",
    "\n",
    "# Split Dataframe\n",
    "disc_yes =  df['Discriminated Against']=='Yes'\n",
    "df_yes = df[disc_yes]\n",
    "\n",
    "disc_no =  df['Discriminated Against']=='No'\n",
    "df_no = df[disc_no]\n",
    "\n",
    "yes_count_x = df_yes['Discriminated Against']\n",
    "yes_count = yes_count_x.count()\n",
    "\n",
    "\n",
    "print(df_yes.head(10))\n",
    "\n",
    "type_disc = np.random.choice(discrim_type, yes_count, p=[gen_x, mar_x, fam_x, age_x, dis_x, rac_x, oth_x])\n",
    "\n",
    "df_no['Type'] = 'NA'\n",
    "df_yes['Type'] = type_disc\n",
    "\n",
    "\n",
    "print(df_yes.head(10))\n",
    "print(df.head(10))\n",
    "\n",
    "# Join Dataframes\n",
    "frames = [df_no, df_yes]\n",
    "\n",
    "result = pd.concat(frames)\n",
    "print(result)"
   ]
  },
  {
   "cell_type": "code",
   "execution_count": 74,
   "metadata": {},
   "outputs": [
    {
     "name": "stdout",
     "output_type": "stream",
     "text": [
      "       Discriminated Against     Sex   Type\n",
      "count                  14158   14158  14158\n",
      "unique                     2       2      8\n",
      "top                       No  Female     NA\n",
      "freq                   12459    7091  12459\n"
     ]
    },
    {
     "data": {
      "text/plain": [
       "<matplotlib.axes._subplots.AxesSubplot at 0x20eb50170b8>"
      ]
     },
     "execution_count": 74,
     "metadata": {},
     "output_type": "execute_result"
    },
    {
     "data": {
      "image/png": "[encoded data removed]",
      "text/plain": [
       "<matplotlib.figure.Figure at 0x20eb4ff2a90>"
      ]
     },
     "metadata": {},
     "output_type": "display_data"
    }
   ],
   "source": [
    "print(result.describe())\n",
    "\n",
    "result['Type'].value_counts().plot(kind='bar')"
   ]
  }
 ],
 "metadata": {
  "kernelspec": {
   "display_name": "Python 3",
   "language": "python",
   "name": "python3"
  },
  "language_info": {
   "codemirror_mode": {
    "name": "ipython",
    "version": 3
   },
   "file_extension": ".py",
   "mimetype": "text/x-python",
   "name": "python",
   "nbconvert_exporter": "python",
   "pygments_lexer": "ipython3",
   "version": "3.6.3"
  }
 },
 "nbformat": 4,
 "nbformat_minor": 2
}
