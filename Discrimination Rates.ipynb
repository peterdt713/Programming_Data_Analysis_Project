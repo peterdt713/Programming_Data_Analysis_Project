{
 "cells": [
  {
   "cell_type": "markdown",
   "metadata": {},
   "source": [
    "# Simulating a Real-World Phenomenon - Irish Discrimination Rates\n",
    "\n",
    "Explain"
   ]
  },
  {
   "cell_type": "code",
   "execution_count": 1,
   "metadata": {
    "collapsed": true
   },
   "outputs": [],
   "source": [
    "import numpy as np\n",
    "import pandas as pd\n",
    "import matplotlib.pyplot as plt\n",
    "\n",
    "%matplotlib inline\n"
   ]
  },
  {
   "cell_type": "code",
   "execution_count": 2,
   "metadata": {},
   "outputs": [
    {
     "name": "stdout",
     "output_type": "stream",
     "text": [
      "Estimated Total Survey Size:  14158\n",
      "Percentage of Males who felt discriminated against:  4.449781042520129\n",
      "Percentage of Females who felt discriminated against:  7.550501483260348\n"
     ]
    }
   ],
   "source": [
    "# 2014 Ratio: https://www.cso.ie/en/releasesandpublications/er/q-eq/qnhsequalitymodulequarter32014/\n",
    "\n",
    "total_disc_yes = 0.12\n",
    "\n",
    "# Of 12% Yes\n",
    "M = 630\n",
    "F = 1069\n",
    "T = M + F\n",
    "\n",
    "# Estimate Total Survey Size\n",
    "total_survey = int(round(T / 0.12))\n",
    "print(\"Estimated Total Survey Size: \", total_survey)\n",
    "\n",
    "\n",
    "M_Y = (M/total_survey)\n",
    "F_Y = (F/total_survey)\n",
    "\n",
    "M_R = (M/total_survey)*100\n",
    "F_R = (F/total_survey)*100\n",
    "\n",
    "print(\"Percentage of Males who felt discriminated against: \", M_R)\n",
    "print(\"Percentage of Females who felt discriminated against: \",F_R)"
   ]
  },
  {
   "cell_type": "markdown",
   "metadata": {},
   "source": [
    "## Sex"
   ]
  },
  {
   "cell_type": "code",
   "execution_count": 3,
   "metadata": {},
   "outputs": [
    {
     "name": "stdout",
     "output_type": "stream",
     "text": [
      "      Sex\n",
      "0    Male\n",
      "1    Male\n",
      "2    Male\n",
      "3    Male\n",
      "4  Female\n",
      "5    Male\n",
      "6    Male\n",
      "7    Male\n",
      "8  Female\n",
      "9  Female\n"
     ]
    }
   ],
   "source": [
    "# Set Array\n",
    "sex_x = ['Male', 'Female']\n",
    "\n",
    "\n",
    "# Build Dataframe - Assume 50% Males and Females\n",
    "sex = np.random.choice(sex_x, total_survey, p=[0.5, 0.5])\n",
    "\n",
    "df=pd.DataFrame(data={'Sex': sex})\n",
    "\n",
    "\n",
    "print(df.head(10))"
   ]
  },
  {
   "cell_type": "markdown",
   "metadata": {},
   "source": [
    "## Experienced Discrimination"
   ]
  },
  {
   "cell_type": "code",
   "execution_count": 4,
   "metadata": {
    "scrolled": false
   },
   "outputs": [
    {
     "name": "stdout",
     "output_type": "stream",
     "text": [
      "      Sex Discriminated Against\n",
      "0    Male                    No\n",
      "1    Male                    No\n",
      "2    Male                   Yes\n",
      "3    Male                   Yes\n",
      "4  Female                    No\n",
      "5    Male                    No\n",
      "6    Male                    No\n",
      "7    Male                    No\n",
      "8  Female                   Yes\n",
      "9  Female                    No\n"
     ]
    }
   ],
   "source": [
    "# Set Array\n",
    "disc_x = ['M_Y', 'F_Y', 'M_N', 'F_N']\n",
    "\n",
    "# Assume 50% Males and 50% Females\n",
    "M_N = 0.5 - M_Y\n",
    "F_N = 0.5 - F_Y\n",
    "\n",
    "\n",
    "# Build Dataframe\n",
    "disc = np.random.choice(disc_x, total_survey, p=[M_Y, F_Y, M_N, F_N])\n",
    "df['Discriminated Against'] = disc\n",
    "\n",
    "df ['Discriminated Against'].replace({'M_Y':'Yes', 'M_N':'No', 'F_Y':'Yes', 'F_N':'No'}, inplace=True)\n",
    "\n",
    "\n",
    "print(df.head(10))"
   ]
  },
  {
   "cell_type": "markdown",
   "metadata": {},
   "source": [
    "## Discrimination Type"
   ]
  },
  {
   "cell_type": "code",
   "execution_count": 5,
   "metadata": {},
   "outputs": [
    {
     "name": "stdout",
     "output_type": "stream",
     "text": [
      "      Sex Discriminated Against            Type\n",
      "0    Male                    No              NA\n",
      "1    Male                    No              NA\n",
      "2    Male                   Yes           Other\n",
      "3    Male                   Yes  Marital Status\n",
      "4  Female                    No              NA\n",
      "5    Male                    No              NA\n",
      "6    Male                    No              NA\n",
      "7    Male                    No              NA\n",
      "8  Female                   Yes          Gender\n",
      "9  Female                    No              NA\n"
     ]
    },
    {
     "name": "stderr",
     "output_type": "stream",
     "text": [
      "C:\\ProgramData\\Anaconda3\\lib\\site-packages\\ipykernel_launcher.py:83: SettingWithCopyWarning: \n",
      "A value is trying to be set on a copy of a slice from a DataFrame.\n",
      "Try using .loc[row_indexer,col_indexer] = value instead\n",
      "\n",
      "See the caveats in the documentation: http://pandas.pydata.org/pandas-docs/stable/indexing.html#indexing-view-versus-copy\n",
      "C:\\ProgramData\\Anaconda3\\lib\\site-packages\\ipykernel_launcher.py:84: SettingWithCopyWarning: \n",
      "A value is trying to be set on a copy of a slice from a DataFrame.\n",
      "Try using .loc[row_indexer,col_indexer] = value instead\n",
      "\n",
      "See the caveats in the documentation: http://pandas.pydata.org/pandas-docs/stable/indexing.html#indexing-view-versus-copy\n",
      "C:\\ProgramData\\Anaconda3\\lib\\site-packages\\ipykernel_launcher.py:85: SettingWithCopyWarning: \n",
      "A value is trying to be set on a copy of a slice from a DataFrame.\n",
      "Try using .loc[row_indexer,col_indexer] = value instead\n",
      "\n",
      "See the caveats in the documentation: http://pandas.pydata.org/pandas-docs/stable/indexing.html#indexing-view-versus-copy\n"
     ]
    }
   ],
   "source": [
    "# Set Array\n",
    "discrim_type = ['Gender', 'Marital Status', 'Family Status', 'Age', 'Disability', 'Race', 'Other']\n",
    "\n",
    "# Males\n",
    "\n",
    "# Set Discrimination Types %\n",
    "gen_m = 9\n",
    "mar_m = 3\n",
    "fam_m = 9\n",
    "age_m = 24\n",
    "dis_m = 6\n",
    "rac_m = 21\n",
    "oth_m = 41\n",
    "\n",
    "# As Multiple Responses were allowed in the Survey, add weighting to correct %\n",
    "tot_disc_m = gen_m + mar_m + fam_m + age_m + dis_m +  rac_m + oth_m\n",
    "\n",
    "gen_m = gen_m/tot_disc_m\n",
    "mar_m = mar_m/tot_disc_m\n",
    "fam_m = fam_m/tot_disc_m\n",
    "age_m = age_m/tot_disc_m\n",
    "dis_m = dis_m/tot_disc_m\n",
    "rac_m = rac_m/tot_disc_m\n",
    "oth_m = oth_m/tot_disc_m\n",
    "\n",
    "# Females\n",
    "\n",
    "# Set Discrimination Types %\n",
    "gen_f = 14 \n",
    "mar_f = 5\n",
    "fam_f = 14\n",
    "age_f = 24\n",
    "dis_f = 6\n",
    "rac_f = 17\n",
    "oth_f = 36\n",
    "\n",
    "# As Multiple Responses were allowed in the Survey, add weighting to correct %\n",
    "tot_disc_f = gen_f + mar_f + fam_f + age_f + dis_f +  rac_f + oth_f\n",
    "\n",
    "gen_f = gen_f/tot_disc_f\n",
    "mar_f = mar_f/tot_disc_f\n",
    "fam_f = fam_f/tot_disc_f\n",
    "age_f = age_f/tot_disc_f\n",
    "dis_f = dis_f/tot_disc_f\n",
    "rac_f = rac_f/tot_disc_f\n",
    "oth_f = oth_f/tot_disc_f\n",
    "\n",
    "# Split Dataframe\n",
    "disc_yes =  df['Discriminated Against']=='Yes'\n",
    "df_yes = df[disc_yes]\n",
    "\n",
    "# Male\n",
    "disc_yes_m =  df_yes['Sex']=='Male'\n",
    "df_yes_m = df_yes[disc_yes_m]\n",
    "\n",
    "# Female\n",
    "disc_yes_f =  df_yes['Sex']=='Female'\n",
    "df_yes_f = df_yes[disc_yes_f]\n",
    "\n",
    "\n",
    "disc_no =  df['Discriminated Against']=='No'\n",
    "df_no = df[disc_no]\n",
    "\n",
    "# Set Count for Yes\n",
    "\n",
    "# Male\n",
    "yes_count_xm = df_yes_m['Discriminated Against']\n",
    "yes_count_m = yes_count_xm.count()\n",
    "\n",
    "# Female\n",
    "yes_count_xf = df_yes_f['Discriminated Against']\n",
    "yes_count_f = yes_count_xf.count()\n",
    "\n",
    "# Populate Weighted Random Choice\n",
    "\n",
    "# Male\n",
    "type_disc_m = np.random.choice(discrim_type, yes_count_m, p=[gen_m, mar_m, fam_m, age_m, dis_m, rac_m, oth_m])\n",
    "\n",
    "# Female\n",
    "type_disc_f = np.random.choice(discrim_type, yes_count_f, p=[gen_f, mar_f, fam_f, age_f, dis_f, rac_f, oth_f])\n",
    "\n",
    "# Set Type Column\n",
    "df_no['Type'] = 'NA'\n",
    "df_yes_m['Type'] = type_disc_m\n",
    "df_yes_f['Type'] = type_disc_f\n",
    "\n",
    "\n",
    "# Join Dataframes\n",
    "frames_a = [df_yes_m, df_yes_f]\n",
    "\n",
    "df_a = pd.concat(frames_a)\n",
    "\n",
    "frames_b = [df_no, df_a]\n",
    "\n",
    "df = pd.concat(frames_b)\n",
    "\n",
    "# Sort by index\n",
    "df.sort_index(inplace=True)\n",
    "print(df.head(10))"
   ]
  },
  {
   "cell_type": "markdown",
   "metadata": {},
   "source": [
    "## Social Setting"
   ]
  },
  {
   "cell_type": "code",
   "execution_count": 7,
   "metadata": {
    "scrolled": true
   },
   "outputs": [
    {
     "name": "stdout",
     "output_type": "stream",
     "text": [
      "      Sex Discriminated Against            Type     Social Setting\n",
      "0    Male                    No              NA                 NA\n",
      "1    Male                    No              NA                 NA\n",
      "2    Male                   Yes           Other   Looking for Work\n",
      "3    Male                   Yes  Marital Status   Looking for Work\n",
      "4  Female                    No              NA                 NA\n",
      "5    Male                    No              NA                 NA\n",
      "6    Male                    No              NA                 NA\n",
      "7    Male                    No              NA                 NA\n",
      "8  Female                   Yes          Gender  Obtaining Housing\n",
      "9  Female                    No              NA                 NA\n"
     ]
    },
    {
     "name": "stderr",
     "output_type": "stream",
     "text": [
      "C:\\ProgramData\\Anaconda3\\lib\\site-packages\\ipykernel_launcher.py:93: SettingWithCopyWarning: \n",
      "A value is trying to be set on a copy of a slice from a DataFrame.\n",
      "Try using .loc[row_indexer,col_indexer] = value instead\n",
      "\n",
      "See the caveats in the documentation: http://pandas.pydata.org/pandas-docs/stable/indexing.html#indexing-view-versus-copy\n",
      "C:\\ProgramData\\Anaconda3\\lib\\site-packages\\ipykernel_launcher.py:94: SettingWithCopyWarning: \n",
      "A value is trying to be set on a copy of a slice from a DataFrame.\n",
      "Try using .loc[row_indexer,col_indexer] = value instead\n",
      "\n",
      "See the caveats in the documentation: http://pandas.pydata.org/pandas-docs/stable/indexing.html#indexing-view-versus-copy\n",
      "C:\\ProgramData\\Anaconda3\\lib\\site-packages\\ipykernel_launcher.py:95: SettingWithCopyWarning: \n",
      "A value is trying to be set on a copy of a slice from a DataFrame.\n",
      "Try using .loc[row_indexer,col_indexer] = value instead\n",
      "\n",
      "See the caveats in the documentation: http://pandas.pydata.org/pandas-docs/stable/indexing.html#indexing-view-versus-copy\n"
     ]
    }
   ],
   "source": [
    "# Set Array\n",
    "discrim_set = ['Workplace', 'Looking for Work', 'Public Place', 'Banks', 'Education', 'Obtaining Housing', 'Accessing health services', 'Using transport services', 'Accessing public services']\n",
    "\n",
    "# Note there is no clear connection detailed between social setting and discrimination type, therefor random\n",
    "\n",
    "# Males\n",
    "\n",
    "# Set Discrimination Setting %\n",
    "wrk_m = 26\n",
    "lrk_m = 31\n",
    "pub_m = 17\n",
    "ban_m = 16\n",
    "edu_m = 4\n",
    "hou_m = 10\n",
    "hea_m = 11\n",
    "tra_m = 4\n",
    "ser_m = 10\n",
    "\n",
    "# As Multiple Responses were allowed in the Survey, add weighting to correct %\n",
    "tot_disc_set_m = wrk_m + lrk_m + pub_m + ban_m + edu_m + hou_m + hea_m + tra_m + ser_m\n",
    "\n",
    "wrk_m = wrk_m/tot_disc_set_m\n",
    "lrk_m = lrk_m/tot_disc_set_m\n",
    "pub_m = pub_m/tot_disc_set_m\n",
    "ban_m = ban_m/tot_disc_set_m\n",
    "edu_m = edu_m/tot_disc_set_m\n",
    "hou_m = hou_m/tot_disc_set_m\n",
    "hea_m = hea_m/tot_disc_set_m\n",
    "tra_m = tra_m/tot_disc_set_m\n",
    "ser_m = ser_m/tot_disc_set_m\n",
    "\n",
    "# Females\n",
    "\n",
    "# Set Discrimination Setting %\n",
    "wrk_f = 31\n",
    "lrk_f = 22\n",
    "pub_f = 19\n",
    "ban_f = 16\n",
    "edu_f = 5\n",
    "hou_f = 11\n",
    "hea_f = 15\n",
    "tra_f = 5\n",
    "ser_f = 7\n",
    "\n",
    "# As Multiple Responses were allowed in the Survey, add weighting to correct %\n",
    "tot_disc_set_f = wrk_f + lrk_f + pub_f + ban_f + edu_f + hou_f + hea_f + tra_f + ser_f\n",
    "\n",
    "wrk_f = wrk_f/tot_disc_set_f\n",
    "lrk_f = lrk_f/tot_disc_set_f\n",
    "pub_f = pub_f/tot_disc_set_f\n",
    "ban_f = ban_f/tot_disc_set_f\n",
    "edu_f = edu_f/tot_disc_set_f\n",
    "hou_f = hou_f/tot_disc_set_f\n",
    "hea_f = hea_f/tot_disc_set_f\n",
    "tra_f = tra_f/tot_disc_set_f\n",
    "ser_f = ser_f/tot_disc_set_f\n",
    "\n",
    "# Split Dataframe\n",
    "disc_set_yes =  df['Discriminated Against']=='Yes'\n",
    "df_set_yes = df[disc_set_yes]\n",
    "\n",
    "# Male\n",
    "disc_set_yes_m =  df_set_yes['Sex']=='Male'\n",
    "df_set_yes_m = df_set_yes[disc_set_yes_m]\n",
    "\n",
    "# Female\n",
    "disc_set_yes_f =  df_set_yes['Sex']=='Female'\n",
    "df_set_yes_f = df_set_yes[disc_set_yes_f]\n",
    "\n",
    "\n",
    "disc_set_no =  df['Discriminated Against']=='No'\n",
    "df_set_no = df[disc_set_no]\n",
    "\n",
    "# Set Count for Yes\n",
    "\n",
    "# Male\n",
    "yes_set_count_xm = df_set_yes_m['Discriminated Against']\n",
    "yes_set_count_m = yes_set_count_xm.count()\n",
    "\n",
    "# Female\n",
    "yes_set_count_xf = df_set_yes_f['Discriminated Against']\n",
    "yes_set_count_f = yes_set_count_xf.count()\n",
    "\n",
    "# Populate Weighted Random Choice\n",
    "\n",
    "# Male\n",
    "type_disc_set_m = np.random.choice(discrim_set, yes_set_count_m, p=[wrk_m, lrk_m ,pub_m ,ban_m ,edu_m ,hou_m, hea_m, tra_m, ser_m])\n",
    "\n",
    "# Female\n",
    "type_disc_set_f = np.random.choice(discrim_set, yes_set_count_f, p=[wrk_f, lrk_f ,pub_f ,ban_f ,edu_f ,hou_f, hea_f, tra_f, ser_f])\n",
    "\n",
    "# Set Type Column\n",
    "df_set_no['Social Setting'] = 'NA'\n",
    "df_set_yes_m['Social Setting'] = type_disc_set_m\n",
    "df_set_yes_f['Social Setting'] = type_disc_set_f\n",
    "\n",
    "\n",
    "# Join Dataframes\n",
    "frames_a = [df_set_yes_m, df_set_yes_f]\n",
    "\n",
    "df_a = pd.concat(frames_a)\n",
    "\n",
    "frames_b = [df_set_no, df_a]\n",
    "\n",
    "df = pd.concat(frames_b)\n",
    "\n",
    "# Sort by index\n",
    "df.sort_index(inplace=True)\n",
    "print(df.head(10))"
   ]
  },
  {
   "cell_type": "markdown",
   "metadata": {},
   "source": [
    "## Action Taken"
   ]
  },
  {
   "cell_type": "code",
   "execution_count": 9,
   "metadata": {},
   "outputs": [
    {
     "name": "stdout",
     "output_type": "stream",
     "text": [
      "      Sex Discriminated Against            Type     Social Setting  \\\n",
      "0    Male                    No              NA                 NA   \n",
      "1    Male                    No              NA                 NA   \n",
      "2    Male                   Yes           Other   Looking for Work   \n",
      "3    Male                   Yes  Marital Status   Looking for Work   \n",
      "4  Female                    No              NA                 NA   \n",
      "5    Male                    No              NA                 NA   \n",
      "6    Male                    No              NA                 NA   \n",
      "7    Male                    No              NA                 NA   \n",
      "8  Female                   Yes          Gender  Obtaining Housing   \n",
      "9  Female                    No              NA                 NA   \n",
      "\n",
      "  Type Action Taken Action Taken  \n",
      "0                NA           NA  \n",
      "1                NA           NA  \n",
      "2            Verbal          Yes  \n",
      "3         No Action           No  \n",
      "4                NA           NA  \n",
      "5                NA           NA  \n",
      "6                NA           NA  \n",
      "7                NA           NA  \n",
      "8            Verbal          Yes  \n",
      "9                NA           NA  \n"
     ]
    },
    {
     "name": "stderr",
     "output_type": "stream",
     "text": [
      "C:\\ProgramData\\Anaconda3\\lib\\site-packages\\ipykernel_launcher.py:74: SettingWithCopyWarning: \n",
      "A value is trying to be set on a copy of a slice from a DataFrame.\n",
      "Try using .loc[row_indexer,col_indexer] = value instead\n",
      "\n",
      "See the caveats in the documentation: http://pandas.pydata.org/pandas-docs/stable/indexing.html#indexing-view-versus-copy\n",
      "C:\\ProgramData\\Anaconda3\\lib\\site-packages\\ipykernel_launcher.py:75: SettingWithCopyWarning: \n",
      "A value is trying to be set on a copy of a slice from a DataFrame.\n",
      "Try using .loc[row_indexer,col_indexer] = value instead\n",
      "\n",
      "See the caveats in the documentation: http://pandas.pydata.org/pandas-docs/stable/indexing.html#indexing-view-versus-copy\n",
      "C:\\ProgramData\\Anaconda3\\lib\\site-packages\\ipykernel_launcher.py:76: SettingWithCopyWarning: \n",
      "A value is trying to be set on a copy of a slice from a DataFrame.\n",
      "Try using .loc[row_indexer,col_indexer] = value instead\n",
      "\n",
      "See the caveats in the documentation: http://pandas.pydata.org/pandas-docs/stable/indexing.html#indexing-view-versus-copy\n"
     ]
    }
   ],
   "source": [
    "# Set Array\n",
    "action_set = ['Verbal', 'Written', 'Offical / Legal', 'No Action']\n",
    "\n",
    "# Note there is no clear connection detailed between Action Taken to social setting and discrimination type, therefore random\n",
    "\n",
    "# Males\n",
    "\n",
    "# Set Discrimination Setting %\n",
    "ver_m = 23\n",
    "wri_m = 7\n",
    "off_m = 10\n",
    "noa_m = 65\n",
    "\n",
    "# As Multiple Responses were allowed in the Survey, add weighting to correct %\n",
    "tot_act_set_m = ver_m + wri_m + off_m + noa_m\n",
    "\n",
    "ver_m = ver_m/tot_act_set_m\n",
    "wri_m = wri_m/tot_act_set_m\n",
    "off_m = off_m/tot_act_set_m\n",
    "noa_m = noa_m/tot_act_set_m\n",
    "\n",
    "\n",
    "# Females\n",
    "\n",
    "# Set Discrimination Setting %\n",
    "ver_f = 27\n",
    "wri_f = 9\n",
    "off_f = 9\n",
    "noa_f = 63\n",
    "\n",
    "# As Multiple Responses were allowed in the Survey, add weighting to correct %\n",
    "tot_act_set_f = ver_f + wri_f + off_f + noa_f\n",
    "\n",
    "ver_f = ver_f/tot_act_set_f\n",
    "wri_f = wri_f/tot_act_set_f\n",
    "off_f = off_f/tot_act_set_f\n",
    "noa_f = noa_f/tot_act_set_f\n",
    "\n",
    "# Split Dataframe\n",
    "disc_set_yes =  df['Discriminated Against']=='Yes'\n",
    "df_set_yes = df[disc_set_yes]\n",
    "\n",
    "# Male\n",
    "disc_set_yes_m =  df_set_yes['Sex']=='Male'\n",
    "df_set_yes_m = df_set_yes[disc_set_yes_m]\n",
    "\n",
    "# Female\n",
    "disc_set_yes_f =  df_set_yes['Sex']=='Female'\n",
    "df_set_yes_f = df_set_yes[disc_set_yes_f]\n",
    "\n",
    "\n",
    "disc_set_no =  df['Discriminated Against']=='No'\n",
    "df_set_no = df[disc_set_no]\n",
    "\n",
    "# Set Count for Yes\n",
    "\n",
    "# Male\n",
    "yes_set_count_xm = df_set_yes_m['Discriminated Against']\n",
    "yes_set_count_m = yes_set_count_xm.count()\n",
    "\n",
    "# Female\n",
    "yes_set_count_xf = df_set_yes_f['Discriminated Against']\n",
    "yes_set_count_f = yes_set_count_xf.count()\n",
    "\n",
    "# Populate Weighted Random Choice\n",
    "\n",
    "# Male\n",
    "type_act_set_m = np.random.choice(action_set, yes_set_count_m, p=[ver_m, wri_m, off_m, noa_m])\n",
    "\n",
    "# Female\n",
    "type_act_set_f = np.random.choice(action_set, yes_set_count_f, p=[ver_f, wri_f, off_f, noa_f])\n",
    "\n",
    "# Set Action Column\n",
    "df_set_no['Type Action Taken'] = 'NA'\n",
    "df_set_yes_m['Type Action Taken'] = type_act_set_m\n",
    "df_set_yes_f['Type Action Taken'] = type_act_set_f\n",
    "\n",
    "\n",
    "# Join Dataframes\n",
    "frames_a = [df_set_yes_m, df_set_yes_f]\n",
    "\n",
    "df_a = pd.concat(frames_a)\n",
    "\n",
    "frames_b = [df_set_no, df_a]\n",
    "\n",
    "df = pd.concat(frames_b)\n",
    "\n",
    "# Sort by index\n",
    "df.sort_index(inplace=True)\n",
    "\n",
    "# Add Action Y/N Column\n",
    "df['Action Taken'] = df['Type Action Taken']\n",
    "df ['Action Taken'].replace({'Verbal':'Yes', 'Written':'Yes', 'Offical / Legal':'Yes', 'No Action':'No'}, inplace=True)\n",
    "\n",
    "print(df.head(10))"
   ]
  },
  {
   "cell_type": "markdown",
   "metadata": {},
   "source": [
    "## Sort Columns"
   ]
  },
  {
   "cell_type": "code",
   "execution_count": 11,
   "metadata": {
    "scrolled": true
   },
   "outputs": [
    {
     "name": "stdout",
     "output_type": "stream",
     "text": [
      "      Sex Discriminated Against            Type     Social Setting  \\\n",
      "0    Male                    No              NA                 NA   \n",
      "1    Male                    No              NA                 NA   \n",
      "2    Male                   Yes           Other   Looking for Work   \n",
      "3    Male                   Yes  Marital Status   Looking for Work   \n",
      "4  Female                    No              NA                 NA   \n",
      "5    Male                    No              NA                 NA   \n",
      "6    Male                    No              NA                 NA   \n",
      "7    Male                    No              NA                 NA   \n",
      "8  Female                   Yes          Gender  Obtaining Housing   \n",
      "9  Female                    No              NA                 NA   \n",
      "\n",
      "  Action Taken Type Action Taken  \n",
      "0           NA                NA  \n",
      "1           NA                NA  \n",
      "2          Yes            Verbal  \n",
      "3           No         No Action  \n",
      "4           NA                NA  \n",
      "5           NA                NA  \n",
      "6           NA                NA  \n",
      "7           NA                NA  \n",
      "8          Yes            Verbal  \n",
      "9           NA                NA  \n"
     ]
    }
   ],
   "source": [
    "df = df[[\"Sex\",\"Discriminated Against\",\"Type\",\"Social Setting\",\"Action Taken\",\"Type Action Taken\"]]\n",
    "print(df.head(10))"
   ]
  },
  {
   "cell_type": "code",
   "execution_count": 12,
   "metadata": {},
   "outputs": [
    {
     "name": "stdout",
     "output_type": "stream",
     "text": [
      "           Sex Discriminated Against   Type Social Setting Type Action Taken\n",
      "count     1706                  1706   1706           1706              1706\n",
      "unique       2                     1      7              9                 4\n",
      "top     Female                   Yes  Other      Workplace         No Action\n",
      "freq       860                  1706    602            363              1030\n"
     ]
    },
    {
     "data": {
      "text/plain": [
       "<matplotlib.axes._subplots.AxesSubplot at 0x22f69ea9908>"
      ]
     },
     "execution_count": 12,
     "metadata": {},
     "output_type": "execute_result"
    },
    {
     "data": {
      "image/png": "[encoded data removed]",
      "text/plain": [
       "<matplotlib.figure.Figure at 0x22f6a086f98>"
      ]
     },
     "metadata": {},
     "output_type": "display_data"
    }
   ],
   "source": [
    "print(df_a.describe())\n",
    "\n",
    "df_a['Type'].value_counts().plot(kind='bar')"
   ]
  },
  {
   "cell_type": "code",
   "execution_count": null,
   "metadata": {
    "collapsed": true
   },
   "outputs": [],
   "source": []
  }
 ],
 "metadata": {
  "kernelspec": {
   "display_name": "Python 3",
   "language": "python",
   "name": "python3"
  },
  "language_info": {
   "codemirror_mode": {
    "name": "ipython",
    "version": 3
   },
   "file_extension": ".py",
   "mimetype": "text/x-python",
   "name": "python",
   "nbconvert_exporter": "python",
   "pygments_lexer": "ipython3",
   "version": "3.6.3"
  }
 },
 "nbformat": 4,
 "nbformat_minor": 2
}
